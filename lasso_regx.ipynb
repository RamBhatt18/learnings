{
  "nbformat": 4,
  "nbformat_minor": 0,
  "metadata": {
    "colab": {
      "provenance": [],
      "authorship_tag": "ABX9TyMwcDt8poAr/oreob5e8NH2"
    },
    "kernelspec": {
      "name": "python3",
      "display_name": "Python 3"
    },
    "language_info": {
      "name": "python"
    }
  },
  "cells": [
    {
      "cell_type": "code",
      "execution_count": 1,
      "metadata": {
        "id": "0FzTu_hY9BZQ"
      },
      "outputs": [],
      "source": [
        "import numpy as np"
      ]
    },
    {
      "cell_type": "code",
      "source": [
        "class Lasso_Regression():\n",
        "    def __init__(self, learning_rate, no_of_iterations, lambda_parameter):\n",
        "        self.learning_rate = learning_rate\n",
        "        self.no_of_iterations = no_of_iterations\n",
        "        self.lambda_parameter = lambda_parameter\n",
        "    def fit(self, X, Y):\n",
        "        self.m, self.n = X.shape\n",
        "        self.w = np.zeros(self.n)\n",
        "        self.b = 0\n",
        "        self.X = X\n",
        "        self.Y = Y\n",
        "        for i in range(self.no_of_iterations):\n",
        "            self.update_weights()\n",
        "    def update_weights(self):\n",
        "        Y_prediction = self.predict(self.X)\n",
        "        for i in range(self.n):\n",
        "          if self.w[i]>0:\n",
        "            dw = (-(2*(self.X[:,i]).dot(self.Y - Y_prediction)) + self.lambda_parameter)/self.m\n",
        "          else:\n",
        "            dw = (-(2*(self.X[:,i]).dot(self.Y - Y_prediction)) - self.lambda_parameter)/self.m\n",
        "\n",
        "        db = -2 * np.sum(self.Y - Y_prediction)/self.m\n",
        "        self.w[i] = self.w[i] - self.learning_rate * dw\n",
        "        self.b = self.b - self.learning_rate * db\n",
        "\n",
        "    def predict(self, X):\n",
        "        return X.dot(self.w) + self.b\n"
      ],
      "metadata": {
        "id": "UHQfI4hm9DfV"
      },
      "execution_count": 3,
      "outputs": []
    },
    {
      "cell_type": "code",
      "source": [],
      "metadata": {
        "id": "MHmAnkZ2Pg_y"
      },
      "execution_count": null,
      "outputs": []
    }
  ]
}